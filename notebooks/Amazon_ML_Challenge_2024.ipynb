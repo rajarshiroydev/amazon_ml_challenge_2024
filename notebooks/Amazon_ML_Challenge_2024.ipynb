{
  "nbformat": 4,
  "nbformat_minor": 0,
  "metadata": {
    "colab": {
      "provenance": [],
      "gpuType": "T4"
    },
    "kernelspec": {
      "name": "python3",
      "display_name": "Python 3"
    },
    "language_info": {
      "name": "python"
    }
  },
  "cells": [
    {
      "cell_type": "markdown",
      "source": [
        "#EDA Train Data"
      ],
      "metadata": {
        "id": "nJr13M_MTe_K"
      }
    },
    {
      "cell_type": "code",
      "source": [
        "import pandas as pd"
      ],
      "metadata": {
        "id": "uUK6EZyDrgZA"
      },
      "execution_count": null,
      "outputs": []
    },
    {
      "cell_type": "code",
      "source": [
        "train = pd.read_csv(\"/content/train.csv\")"
      ],
      "metadata": {
        "id": "sOBHgro0ij49"
      },
      "execution_count": null,
      "outputs": []
    },
    {
      "cell_type": "code",
      "source": [
        "train['entity_name'].unique().tolist()"
      ],
      "metadata": {
        "colab": {
          "base_uri": "https://localhost:8080/"
        },
        "id": "pXmUwA5vT-ku",
        "outputId": "d547ef41-0cf3-43c8-ddd8-06a7dd78d3a6"
      },
      "execution_count": null,
      "outputs": [
        {
          "output_type": "execute_result",
          "data": {
            "text/plain": [
              "['item_weight',\n",
              " 'item_volume',\n",
              " 'voltage',\n",
              " 'wattage',\n",
              " 'maximum_weight_recommendation',\n",
              " 'height',\n",
              " 'depth',\n",
              " 'width']"
            ]
          },
          "metadata": {},
          "execution_count": 3
        }
      ]
    },
    {
      "cell_type": "code",
      "source": [
        "train.shape"
      ],
      "metadata": {
        "colab": {
          "base_uri": "https://localhost:8080/"
        },
        "id": "bZlGfbFZisJJ",
        "outputId": "040dfa35-0a1c-4fb7-9e72-eb7da5ef795e"
      },
      "execution_count": null,
      "outputs": [
        {
          "output_type": "execute_result",
          "data": {
            "text/plain": [
              "(263859, 4)"
            ]
          },
          "metadata": {},
          "execution_count": 4
        }
      ]
    },
    {
      "cell_type": "code",
      "source": [
        "train.head()"
      ],
      "metadata": {
        "colab": {
          "base_uri": "https://localhost:8080/",
          "height": 206
        },
        "id": "H75IVH9pit0W",
        "outputId": "5db381d8-4bcb-4fe3-c785-6b0be497e12f"
      },
      "execution_count": null,
      "outputs": [
        {
          "output_type": "execute_result",
          "data": {
            "text/plain": [
              "                                          image_link  group_id  entity_name  \\\n",
              "0  https://m.media-amazon.com/images/I/61I9XdN6OF...    748919  item_weight   \n",
              "1  https://m.media-amazon.com/images/I/71gSRbyXmo...    916768  item_volume   \n",
              "2  https://m.media-amazon.com/images/I/61BZ4zrjZX...    459516  item_weight   \n",
              "3  https://m.media-amazon.com/images/I/612mrlqiI4...    459516  item_weight   \n",
              "4  https://m.media-amazon.com/images/I/617Tl40LOX...    731432  item_weight   \n",
              "\n",
              "     entity_value  \n",
              "0      500.0 gram  \n",
              "1         1.0 cup  \n",
              "2      0.709 gram  \n",
              "3      0.709 gram  \n",
              "4  1400 milligram  "
            ],
            "text/html": [
              "\n",
              "  <div id=\"df-65496d8d-b6fc-48f2-8ad7-dd25c87b9f73\" class=\"colab-df-container\">\n",
              "    <div>\n",
              "<style scoped>\n",
              "    .dataframe tbody tr th:only-of-type {\n",
              "        vertical-align: middle;\n",
              "    }\n",
              "\n",
              "    .dataframe tbody tr th {\n",
              "        vertical-align: top;\n",
              "    }\n",
              "\n",
              "    .dataframe thead th {\n",
              "        text-align: right;\n",
              "    }\n",
              "</style>\n",
              "<table border=\"1\" class=\"dataframe\">\n",
              "  <thead>\n",
              "    <tr style=\"text-align: right;\">\n",
              "      <th></th>\n",
              "      <th>image_link</th>\n",
              "      <th>group_id</th>\n",
              "      <th>entity_name</th>\n",
              "      <th>entity_value</th>\n",
              "    </tr>\n",
              "  </thead>\n",
              "  <tbody>\n",
              "    <tr>\n",
              "      <th>0</th>\n",
              "      <td>https://m.media-amazon.com/images/I/61I9XdN6OF...</td>\n",
              "      <td>748919</td>\n",
              "      <td>item_weight</td>\n",
              "      <td>500.0 gram</td>\n",
              "    </tr>\n",
              "    <tr>\n",
              "      <th>1</th>\n",
              "      <td>https://m.media-amazon.com/images/I/71gSRbyXmo...</td>\n",
              "      <td>916768</td>\n",
              "      <td>item_volume</td>\n",
              "      <td>1.0 cup</td>\n",
              "    </tr>\n",
              "    <tr>\n",
              "      <th>2</th>\n",
              "      <td>https://m.media-amazon.com/images/I/61BZ4zrjZX...</td>\n",
              "      <td>459516</td>\n",
              "      <td>item_weight</td>\n",
              "      <td>0.709 gram</td>\n",
              "    </tr>\n",
              "    <tr>\n",
              "      <th>3</th>\n",
              "      <td>https://m.media-amazon.com/images/I/612mrlqiI4...</td>\n",
              "      <td>459516</td>\n",
              "      <td>item_weight</td>\n",
              "      <td>0.709 gram</td>\n",
              "    </tr>\n",
              "    <tr>\n",
              "      <th>4</th>\n",
              "      <td>https://m.media-amazon.com/images/I/617Tl40LOX...</td>\n",
              "      <td>731432</td>\n",
              "      <td>item_weight</td>\n",
              "      <td>1400 milligram</td>\n",
              "    </tr>\n",
              "  </tbody>\n",
              "</table>\n",
              "</div>\n",
              "    <div class=\"colab-df-buttons\">\n",
              "\n",
              "  <div class=\"colab-df-container\">\n",
              "    <button class=\"colab-df-convert\" onclick=\"convertToInteractive('df-65496d8d-b6fc-48f2-8ad7-dd25c87b9f73')\"\n",
              "            title=\"Convert this dataframe to an interactive table.\"\n",
              "            style=\"display:none;\">\n",
              "\n",
              "  <svg xmlns=\"http://www.w3.org/2000/svg\" height=\"24px\" viewBox=\"0 -960 960 960\">\n",
              "    <path d=\"M120-120v-720h720v720H120Zm60-500h600v-160H180v160Zm220 220h160v-160H400v160Zm0 220h160v-160H400v160ZM180-400h160v-160H180v160Zm440 0h160v-160H620v160ZM180-180h160v-160H180v160Zm440 0h160v-160H620v160Z\"/>\n",
              "  </svg>\n",
              "    </button>\n",
              "\n",
              "  <style>\n",
              "    .colab-df-container {\n",
              "      display:flex;\n",
              "      gap: 12px;\n",
              "    }\n",
              "\n",
              "    .colab-df-convert {\n",
              "      background-color: #E8F0FE;\n",
              "      border: none;\n",
              "      border-radius: 50%;\n",
              "      cursor: pointer;\n",
              "      display: none;\n",
              "      fill: #1967D2;\n",
              "      height: 32px;\n",
              "      padding: 0 0 0 0;\n",
              "      width: 32px;\n",
              "    }\n",
              "\n",
              "    .colab-df-convert:hover {\n",
              "      background-color: #E2EBFA;\n",
              "      box-shadow: 0px 1px 2px rgba(60, 64, 67, 0.3), 0px 1px 3px 1px rgba(60, 64, 67, 0.15);\n",
              "      fill: #174EA6;\n",
              "    }\n",
              "\n",
              "    .colab-df-buttons div {\n",
              "      margin-bottom: 4px;\n",
              "    }\n",
              "\n",
              "    [theme=dark] .colab-df-convert {\n",
              "      background-color: #3B4455;\n",
              "      fill: #D2E3FC;\n",
              "    }\n",
              "\n",
              "    [theme=dark] .colab-df-convert:hover {\n",
              "      background-color: #434B5C;\n",
              "      box-shadow: 0px 1px 3px 1px rgba(0, 0, 0, 0.15);\n",
              "      filter: drop-shadow(0px 1px 2px rgba(0, 0, 0, 0.3));\n",
              "      fill: #FFFFFF;\n",
              "    }\n",
              "  </style>\n",
              "\n",
              "    <script>\n",
              "      const buttonEl =\n",
              "        document.querySelector('#df-65496d8d-b6fc-48f2-8ad7-dd25c87b9f73 button.colab-df-convert');\n",
              "      buttonEl.style.display =\n",
              "        google.colab.kernel.accessAllowed ? 'block' : 'none';\n",
              "\n",
              "      async function convertToInteractive(key) {\n",
              "        const element = document.querySelector('#df-65496d8d-b6fc-48f2-8ad7-dd25c87b9f73');\n",
              "        const dataTable =\n",
              "          await google.colab.kernel.invokeFunction('convertToInteractive',\n",
              "                                                    [key], {});\n",
              "        if (!dataTable) return;\n",
              "\n",
              "        const docLinkHtml = 'Like what you see? Visit the ' +\n",
              "          '<a target=\"_blank\" href=https://colab.research.google.com/notebooks/data_table.ipynb>data table notebook</a>'\n",
              "          + ' to learn more about interactive tables.';\n",
              "        element.innerHTML = '';\n",
              "        dataTable['output_type'] = 'display_data';\n",
              "        await google.colab.output.renderOutput(dataTable, element);\n",
              "        const docLink = document.createElement('div');\n",
              "        docLink.innerHTML = docLinkHtml;\n",
              "        element.appendChild(docLink);\n",
              "      }\n",
              "    </script>\n",
              "  </div>\n",
              "\n",
              "\n",
              "<div id=\"df-ca8faaac-8ece-495e-906e-26f203e3a4dc\">\n",
              "  <button class=\"colab-df-quickchart\" onclick=\"quickchart('df-ca8faaac-8ece-495e-906e-26f203e3a4dc')\"\n",
              "            title=\"Suggest charts\"\n",
              "            style=\"display:none;\">\n",
              "\n",
              "<svg xmlns=\"http://www.w3.org/2000/svg\" height=\"24px\"viewBox=\"0 0 24 24\"\n",
              "     width=\"24px\">\n",
              "    <g>\n",
              "        <path d=\"M19 3H5c-1.1 0-2 .9-2 2v14c0 1.1.9 2 2 2h14c1.1 0 2-.9 2-2V5c0-1.1-.9-2-2-2zM9 17H7v-7h2v7zm4 0h-2V7h2v10zm4 0h-2v-4h2v4z\"/>\n",
              "    </g>\n",
              "</svg>\n",
              "  </button>\n",
              "\n",
              "<style>\n",
              "  .colab-df-quickchart {\n",
              "      --bg-color: #E8F0FE;\n",
              "      --fill-color: #1967D2;\n",
              "      --hover-bg-color: #E2EBFA;\n",
              "      --hover-fill-color: #174EA6;\n",
              "      --disabled-fill-color: #AAA;\n",
              "      --disabled-bg-color: #DDD;\n",
              "  }\n",
              "\n",
              "  [theme=dark] .colab-df-quickchart {\n",
              "      --bg-color: #3B4455;\n",
              "      --fill-color: #D2E3FC;\n",
              "      --hover-bg-color: #434B5C;\n",
              "      --hover-fill-color: #FFFFFF;\n",
              "      --disabled-bg-color: #3B4455;\n",
              "      --disabled-fill-color: #666;\n",
              "  }\n",
              "\n",
              "  .colab-df-quickchart {\n",
              "    background-color: var(--bg-color);\n",
              "    border: none;\n",
              "    border-radius: 50%;\n",
              "    cursor: pointer;\n",
              "    display: none;\n",
              "    fill: var(--fill-color);\n",
              "    height: 32px;\n",
              "    padding: 0;\n",
              "    width: 32px;\n",
              "  }\n",
              "\n",
              "  .colab-df-quickchart:hover {\n",
              "    background-color: var(--hover-bg-color);\n",
              "    box-shadow: 0 1px 2px rgba(60, 64, 67, 0.3), 0 1px 3px 1px rgba(60, 64, 67, 0.15);\n",
              "    fill: var(--button-hover-fill-color);\n",
              "  }\n",
              "\n",
              "  .colab-df-quickchart-complete:disabled,\n",
              "  .colab-df-quickchart-complete:disabled:hover {\n",
              "    background-color: var(--disabled-bg-color);\n",
              "    fill: var(--disabled-fill-color);\n",
              "    box-shadow: none;\n",
              "  }\n",
              "\n",
              "  .colab-df-spinner {\n",
              "    border: 2px solid var(--fill-color);\n",
              "    border-color: transparent;\n",
              "    border-bottom-color: var(--fill-color);\n",
              "    animation:\n",
              "      spin 1s steps(1) infinite;\n",
              "  }\n",
              "\n",
              "  @keyframes spin {\n",
              "    0% {\n",
              "      border-color: transparent;\n",
              "      border-bottom-color: var(--fill-color);\n",
              "      border-left-color: var(--fill-color);\n",
              "    }\n",
              "    20% {\n",
              "      border-color: transparent;\n",
              "      border-left-color: var(--fill-color);\n",
              "      border-top-color: var(--fill-color);\n",
              "    }\n",
              "    30% {\n",
              "      border-color: transparent;\n",
              "      border-left-color: var(--fill-color);\n",
              "      border-top-color: var(--fill-color);\n",
              "      border-right-color: var(--fill-color);\n",
              "    }\n",
              "    40% {\n",
              "      border-color: transparent;\n",
              "      border-right-color: var(--fill-color);\n",
              "      border-top-color: var(--fill-color);\n",
              "    }\n",
              "    60% {\n",
              "      border-color: transparent;\n",
              "      border-right-color: var(--fill-color);\n",
              "    }\n",
              "    80% {\n",
              "      border-color: transparent;\n",
              "      border-right-color: var(--fill-color);\n",
              "      border-bottom-color: var(--fill-color);\n",
              "    }\n",
              "    90% {\n",
              "      border-color: transparent;\n",
              "      border-bottom-color: var(--fill-color);\n",
              "    }\n",
              "  }\n",
              "</style>\n",
              "\n",
              "  <script>\n",
              "    async function quickchart(key) {\n",
              "      const quickchartButtonEl =\n",
              "        document.querySelector('#' + key + ' button');\n",
              "      quickchartButtonEl.disabled = true;  // To prevent multiple clicks.\n",
              "      quickchartButtonEl.classList.add('colab-df-spinner');\n",
              "      try {\n",
              "        const charts = await google.colab.kernel.invokeFunction(\n",
              "            'suggestCharts', [key], {});\n",
              "      } catch (error) {\n",
              "        console.error('Error during call to suggestCharts:', error);\n",
              "      }\n",
              "      quickchartButtonEl.classList.remove('colab-df-spinner');\n",
              "      quickchartButtonEl.classList.add('colab-df-quickchart-complete');\n",
              "    }\n",
              "    (() => {\n",
              "      let quickchartButtonEl =\n",
              "        document.querySelector('#df-ca8faaac-8ece-495e-906e-26f203e3a4dc button');\n",
              "      quickchartButtonEl.style.display =\n",
              "        google.colab.kernel.accessAllowed ? 'block' : 'none';\n",
              "    })();\n",
              "  </script>\n",
              "</div>\n",
              "\n",
              "    </div>\n",
              "  </div>\n"
            ],
            "application/vnd.google.colaboratory.intrinsic+json": {
              "type": "dataframe",
              "variable_name": "train"
            }
          },
          "metadata": {},
          "execution_count": 5
        }
      ]
    },
    {
      "cell_type": "code",
      "source": [
        "train.isnull().sum()"
      ],
      "metadata": {
        "colab": {
          "base_uri": "https://localhost:8080/",
          "height": 209
        },
        "id": "lcoawXrviv_r",
        "outputId": "ce584313-5546-447e-b36d-9115ad77ab96"
      },
      "execution_count": null,
      "outputs": [
        {
          "output_type": "execute_result",
          "data": {
            "text/plain": [
              "image_link      0\n",
              "group_id        0\n",
              "entity_name     0\n",
              "entity_value    0\n",
              "dtype: int64"
            ],
            "text/html": [
              "<div>\n",
              "<style scoped>\n",
              "    .dataframe tbody tr th:only-of-type {\n",
              "        vertical-align: middle;\n",
              "    }\n",
              "\n",
              "    .dataframe tbody tr th {\n",
              "        vertical-align: top;\n",
              "    }\n",
              "\n",
              "    .dataframe thead th {\n",
              "        text-align: right;\n",
              "    }\n",
              "</style>\n",
              "<table border=\"1\" class=\"dataframe\">\n",
              "  <thead>\n",
              "    <tr style=\"text-align: right;\">\n",
              "      <th></th>\n",
              "      <th>0</th>\n",
              "    </tr>\n",
              "  </thead>\n",
              "  <tbody>\n",
              "    <tr>\n",
              "      <th>image_link</th>\n",
              "      <td>0</td>\n",
              "    </tr>\n",
              "    <tr>\n",
              "      <th>group_id</th>\n",
              "      <td>0</td>\n",
              "    </tr>\n",
              "    <tr>\n",
              "      <th>entity_name</th>\n",
              "      <td>0</td>\n",
              "    </tr>\n",
              "    <tr>\n",
              "      <th>entity_value</th>\n",
              "      <td>0</td>\n",
              "    </tr>\n",
              "  </tbody>\n",
              "</table>\n",
              "</div><br><label><b>dtype:</b> int64</label>"
            ]
          },
          "metadata": {},
          "execution_count": 6
        }
      ]
    },
    {
      "cell_type": "code",
      "source": [
        "train['entity_name'].value_counts()"
      ],
      "metadata": {
        "colab": {
          "base_uri": "https://localhost:8080/",
          "height": 366
        },
        "id": "ZO9oTj5Zwv51",
        "outputId": "246aba71-b103-4b70-b1ac-197d41d4d31b"
      },
      "execution_count": null,
      "outputs": [
        {
          "output_type": "execute_result",
          "data": {
            "text/plain": [
              "entity_name\n",
              "item_weight                      102786\n",
              "depth                             45127\n",
              "width                             44183\n",
              "height                            43597\n",
              "voltage                            9466\n",
              "wattage                            7755\n",
              "item_volume                        7682\n",
              "maximum_weight_recommendation      3263\n",
              "Name: count, dtype: int64"
            ],
            "text/html": [
              "<div>\n",
              "<style scoped>\n",
              "    .dataframe tbody tr th:only-of-type {\n",
              "        vertical-align: middle;\n",
              "    }\n",
              "\n",
              "    .dataframe tbody tr th {\n",
              "        vertical-align: top;\n",
              "    }\n",
              "\n",
              "    .dataframe thead th {\n",
              "        text-align: right;\n",
              "    }\n",
              "</style>\n",
              "<table border=\"1\" class=\"dataframe\">\n",
              "  <thead>\n",
              "    <tr style=\"text-align: right;\">\n",
              "      <th></th>\n",
              "      <th>count</th>\n",
              "    </tr>\n",
              "    <tr>\n",
              "      <th>entity_name</th>\n",
              "      <th></th>\n",
              "    </tr>\n",
              "  </thead>\n",
              "  <tbody>\n",
              "    <tr>\n",
              "      <th>item_weight</th>\n",
              "      <td>102786</td>\n",
              "    </tr>\n",
              "    <tr>\n",
              "      <th>depth</th>\n",
              "      <td>45127</td>\n",
              "    </tr>\n",
              "    <tr>\n",
              "      <th>width</th>\n",
              "      <td>44183</td>\n",
              "    </tr>\n",
              "    <tr>\n",
              "      <th>height</th>\n",
              "      <td>43597</td>\n",
              "    </tr>\n",
              "    <tr>\n",
              "      <th>voltage</th>\n",
              "      <td>9466</td>\n",
              "    </tr>\n",
              "    <tr>\n",
              "      <th>wattage</th>\n",
              "      <td>7755</td>\n",
              "    </tr>\n",
              "    <tr>\n",
              "      <th>item_volume</th>\n",
              "      <td>7682</td>\n",
              "    </tr>\n",
              "    <tr>\n",
              "      <th>maximum_weight_recommendation</th>\n",
              "      <td>3263</td>\n",
              "    </tr>\n",
              "  </tbody>\n",
              "</table>\n",
              "</div><br><label><b>dtype:</b> int64</label>"
            ]
          },
          "metadata": {},
          "execution_count": 7
        }
      ]
    },
    {
      "cell_type": "code",
      "source": [
        "train.nunique()"
      ],
      "metadata": {
        "id": "pzPRTeNsi45j",
        "outputId": "501b7f6d-f036-4ba2-da95-a09349e0ee7b",
        "colab": {
          "base_uri": "https://localhost:8080/",
          "height": 209
        }
      },
      "execution_count": null,
      "outputs": [
        {
          "output_type": "execute_result",
          "data": {
            "text/plain": [
              "image_link      255906\n",
              "group_id           750\n",
              "entity_name          8\n",
              "entity_value     16405\n",
              "dtype: int64"
            ],
            "text/html": [
              "<div>\n",
              "<style scoped>\n",
              "    .dataframe tbody tr th:only-of-type {\n",
              "        vertical-align: middle;\n",
              "    }\n",
              "\n",
              "    .dataframe tbody tr th {\n",
              "        vertical-align: top;\n",
              "    }\n",
              "\n",
              "    .dataframe thead th {\n",
              "        text-align: right;\n",
              "    }\n",
              "</style>\n",
              "<table border=\"1\" class=\"dataframe\">\n",
              "  <thead>\n",
              "    <tr style=\"text-align: right;\">\n",
              "      <th></th>\n",
              "      <th>0</th>\n",
              "    </tr>\n",
              "  </thead>\n",
              "  <tbody>\n",
              "    <tr>\n",
              "      <th>image_link</th>\n",
              "      <td>255906</td>\n",
              "    </tr>\n",
              "    <tr>\n",
              "      <th>group_id</th>\n",
              "      <td>750</td>\n",
              "    </tr>\n",
              "    <tr>\n",
              "      <th>entity_name</th>\n",
              "      <td>8</td>\n",
              "    </tr>\n",
              "    <tr>\n",
              "      <th>entity_value</th>\n",
              "      <td>16405</td>\n",
              "    </tr>\n",
              "  </tbody>\n",
              "</table>\n",
              "</div><br><label><b>dtype:</b> int64</label>"
            ]
          },
          "metadata": {},
          "execution_count": 8
        }
      ]
    },
    {
      "cell_type": "markdown",
      "source": [
        "# EDA Test Data"
      ],
      "metadata": {
        "id": "k7GqtNt3TuG5"
      }
    },
    {
      "cell_type": "code",
      "source": [
        "test = pd.read_csv(\"/content/test.csv\")"
      ],
      "metadata": {
        "id": "Lp9ocbN-i665"
      },
      "execution_count": null,
      "outputs": []
    },
    {
      "cell_type": "code",
      "source": [
        "test.shape"
      ],
      "metadata": {
        "colab": {
          "base_uri": "https://localhost:8080/"
        },
        "id": "bFiOhr0P4s8S",
        "outputId": "b37100fd-a2ae-41db-e149-8a75df329ea0"
      },
      "execution_count": null,
      "outputs": [
        {
          "output_type": "execute_result",
          "data": {
            "text/plain": [
              "(131187, 4)"
            ]
          },
          "metadata": {},
          "execution_count": 8
        }
      ]
    },
    {
      "cell_type": "code",
      "source": [
        "test.isnull().sum()"
      ],
      "metadata": {
        "colab": {
          "base_uri": "https://localhost:8080/",
          "height": 210
        },
        "id": "do_cMiIu4xaD",
        "outputId": "9144ec72-a901-4adb-9059-1b2c20620ed2"
      },
      "execution_count": null,
      "outputs": [
        {
          "output_type": "execute_result",
          "data": {
            "text/plain": [
              "index          0\n",
              "image_link     0\n",
              "group_id       0\n",
              "entity_name    0\n",
              "dtype: int64"
            ],
            "text/html": [
              "<div>\n",
              "<style scoped>\n",
              "    .dataframe tbody tr th:only-of-type {\n",
              "        vertical-align: middle;\n",
              "    }\n",
              "\n",
              "    .dataframe tbody tr th {\n",
              "        vertical-align: top;\n",
              "    }\n",
              "\n",
              "    .dataframe thead th {\n",
              "        text-align: right;\n",
              "    }\n",
              "</style>\n",
              "<table border=\"1\" class=\"dataframe\">\n",
              "  <thead>\n",
              "    <tr style=\"text-align: right;\">\n",
              "      <th></th>\n",
              "      <th>0</th>\n",
              "    </tr>\n",
              "  </thead>\n",
              "  <tbody>\n",
              "    <tr>\n",
              "      <th>index</th>\n",
              "      <td>0</td>\n",
              "    </tr>\n",
              "    <tr>\n",
              "      <th>image_link</th>\n",
              "      <td>0</td>\n",
              "    </tr>\n",
              "    <tr>\n",
              "      <th>group_id</th>\n",
              "      <td>0</td>\n",
              "    </tr>\n",
              "    <tr>\n",
              "      <th>entity_name</th>\n",
              "      <td>0</td>\n",
              "    </tr>\n",
              "  </tbody>\n",
              "</table>\n",
              "</div><br><label><b>dtype:</b> int64</label>"
            ]
          },
          "metadata": {},
          "execution_count": 9
        }
      ]
    },
    {
      "cell_type": "code",
      "source": [
        "test.nunique()"
      ],
      "metadata": {
        "colab": {
          "base_uri": "https://localhost:8080/",
          "height": 210
        },
        "id": "WN8LDLtA414z",
        "outputId": "e3dd5b83-31a6-4289-fea6-f05642f285d7"
      },
      "execution_count": null,
      "outputs": [
        {
          "output_type": "execute_result",
          "data": {
            "text/plain": [
              "index          131187\n",
              "image_link      90666\n",
              "group_id          924\n",
              "entity_name         8\n",
              "dtype: int64"
            ],
            "text/html": [
              "<div>\n",
              "<style scoped>\n",
              "    .dataframe tbody tr th:only-of-type {\n",
              "        vertical-align: middle;\n",
              "    }\n",
              "\n",
              "    .dataframe tbody tr th {\n",
              "        vertical-align: top;\n",
              "    }\n",
              "\n",
              "    .dataframe thead th {\n",
              "        text-align: right;\n",
              "    }\n",
              "</style>\n",
              "<table border=\"1\" class=\"dataframe\">\n",
              "  <thead>\n",
              "    <tr style=\"text-align: right;\">\n",
              "      <th></th>\n",
              "      <th>0</th>\n",
              "    </tr>\n",
              "  </thead>\n",
              "  <tbody>\n",
              "    <tr>\n",
              "      <th>index</th>\n",
              "      <td>131187</td>\n",
              "    </tr>\n",
              "    <tr>\n",
              "      <th>image_link</th>\n",
              "      <td>90666</td>\n",
              "    </tr>\n",
              "    <tr>\n",
              "      <th>group_id</th>\n",
              "      <td>924</td>\n",
              "    </tr>\n",
              "    <tr>\n",
              "      <th>entity_name</th>\n",
              "      <td>8</td>\n",
              "    </tr>\n",
              "  </tbody>\n",
              "</table>\n",
              "</div><br><label><b>dtype:</b> int64</label>"
            ]
          },
          "metadata": {},
          "execution_count": 10
        }
      ]
    },
    {
      "cell_type": "markdown",
      "source": [
        "# Paddle OCR with Upscaling"
      ],
      "metadata": {
        "id": "LNgpuCtxUTm1"
      }
    },
    {
      "cell_type": "code",
      "source": [
        "!pip install paddlepaddle paddleocr"
      ],
      "metadata": {
        "id": "_4gWRBDWQVwo"
      },
      "execution_count": null,
      "outputs": []
    },
    {
      "cell_type": "code",
      "source": [
        "import os\n",
        "import cv2\n",
        "import time\n",
        "import requests\n",
        "from io import BytesIO\n",
        "from PIL import Image\n",
        "from joblib import Parallel, delayed\n",
        "from paddleocr import PaddleOCR\n",
        "import numpy as np\n",
        "import pandas as pd\n",
        "\n",
        "# Define the dataset path (CSV file)\n",
        "dataset_path = '/content/train.csv'\n",
        "\n",
        "# Define the output CSV file path with extracted text\n",
        "output_csv = '/content/train_with_text.csv'\n",
        "\n",
        "# Define counters for successful extractions and errors\n",
        "success_count = 0\n",
        "error_count = 0\n",
        "\n",
        "# Define the current time\n",
        "start_time = time.time()\n",
        "\n",
        "# Function to upscale the image\n",
        "def upscale_image(image, scale_factor=2):\n",
        "    \"\"\"\n",
        "    Upscales an image by the given scale factor.\n",
        "    \"\"\"\n",
        "    width = int(image.shape[1] * scale_factor)\n",
        "    height = int(image.shape[0] * scale_factor)\n",
        "    dimensions = (width, height)\n",
        "\n",
        "    # Resize the image to the new dimensions\n",
        "    upscaled_image = cv2.resize(image, dimensions, interpolation=cv2.INTER_CUBIC)\n",
        "    return upscaled_image\n",
        "\n",
        "# Function to download image from URL and convert it to an OpenCV image\n",
        "def download_image_from_url(url):\n",
        "    try:\n",
        "        response = requests.get(url)\n",
        "        response.raise_for_status()  # Raise an exception for failed requests\n",
        "        image = Image.open(BytesIO(response.content)).convert('RGB')  # Convert to RGB\n",
        "        return np.array(image)  # Convert the PIL image to a NumPy array (OpenCV format)\n",
        "    except Exception as e:\n",
        "        print(f\"Error downloading image {url}: {str(e)}\")\n",
        "        return None\n",
        "\n",
        "# Define a function for text extraction using PaddleOCR\n",
        "def extract_text(image_path, scale_factor=2):\n",
        "    try:\n",
        "        # Initialize PaddleOCR within the function to avoid PicklingError\n",
        "        ocr = PaddleOCR(use_angle_cls=True, lang='en')\n",
        "\n",
        "        # Check if image_path is a URL (starts with 'http' or 'https')\n",
        "        if image_path.startswith('http'):\n",
        "            # Download the image from the URL\n",
        "            image_cv = download_image_from_url(image_path)\n",
        "        else:\n",
        "            # Load the image from a local file\n",
        "            image_cv = cv2.imread(image_path)\n",
        "\n",
        "        if image_cv is None:\n",
        "            raise ValueError(\"Image could not be loaded, possibly corrupted or invalid format.\")\n",
        "\n",
        "        # Upscale the image to enhance text extraction\n",
        "        image_upscaled = upscale_image(image_cv, scale_factor=scale_factor)\n",
        "\n",
        "        # Convert the image from BGR to RGB (PaddleOCR expects RGB format)\n",
        "        image_rgb = cv2.cvtColor(image_upscaled, cv2.COLOR_BGR2RGB)\n",
        "\n",
        "        # Extract text using PaddleOCR\n",
        "        results = ocr.ocr(image_rgb)  # Returns a list of text boxes and text\n",
        "\n",
        "        # Join the results into a single string\n",
        "        text = '\\n'.join([res[1][0] for res in results[0]])  # Extract text part\n",
        "\n",
        "        return text\n",
        "\n",
        "    except Exception as e:\n",
        "        # Handle exceptions (e.g., if the image is corrupted)\n",
        "        print(f\"Error processing {image_path}: {str(e)}\")\n",
        "        return None\n",
        "\n",
        "# Read the dataset into a pandas DataFrame\n",
        "df = pd.read_csv(dataset_path)\n",
        "\n",
        "# Limit the DataFrame to the first 50 rows\n",
        "df = df.head(5)\n",
        "\n",
        "\n",
        "# Ensure that there is an 'image_link' column in the dataset\n",
        "if 'image_link' not in df.columns:\n",
        "    raise ValueError(\"The dataset must contain an 'image_link' column with image paths or URLs.\")\n",
        "\n",
        "# Initialize a new column for extracted text\n",
        "df['extracted_text'] = None\n",
        "\n",
        "# Iterate over the dataset and extract text for each image\n",
        "for idx, row in df.iterrows():\n",
        "    image_path = row['image_link']\n",
        "    extracted_text = extract_text(image_path)  # Extract text from the image\n",
        "\n",
        "    if extracted_text is not None:\n",
        "        df.at[idx, 'extracted_text'] = extracted_text\n",
        "        success_count += 1\n",
        "    else:\n",
        "        error_count += 1\n",
        "\n",
        "# Save the updated dataset with the extracted text to a new CSV file\n",
        "df.to_csv(output_csv, index=False)\n",
        "\n",
        "# Calculate the total execution time in minutes\n",
        "end_time = time.time()\n",
        "total_time_seconds = end_time - start_time\n",
        "total_time_minutes = total_time_seconds / 60  # Convert to minutes\n",
        "\n",
        "# Print the total time taken in minutes\n",
        "print(f\"Total time taken: {total_time_minutes:.2f} minutes\")\n",
        "\n",
        "# Print the count of successful extractions and errors\n",
        "print(f\"Images successfully extracted: {success_count}\")\n",
        "print(f\"Images with errors: {error_count}\")\n",
        "\n",
        "# Print the path to the output CSV file\n",
        "print(f\"Updated dataset saved to: {output_csv}\")"
      ],
      "metadata": {
        "colab": {
          "base_uri": "https://localhost:8080/"
        },
        "id": "M_EpTRDGgozu",
        "outputId": "7e01ad97-740b-4d04-974d-4af2d3653098"
      },
      "execution_count": null,
      "outputs": [
        {
          "output_type": "stream",
          "name": "stdout",
          "text": [
            "[2024/09/14 12:21:52] ppocr DEBUG: Namespace(help='==SUPPRESS==', use_gpu=False, use_xpu=False, use_npu=False, use_mlu=False, ir_optim=True, use_tensorrt=False, min_subgraph_size=15, precision='fp32', gpu_mem=500, gpu_id=0, image_dir=None, page_num=0, det_algorithm='DB', det_model_dir='/root/.paddleocr/whl/det/en/en_PP-OCRv3_det_infer', det_limit_side_len=960, det_limit_type='max', det_box_type='quad', det_db_thresh=0.3, det_db_box_thresh=0.6, det_db_unclip_ratio=1.5, max_batch_size=10, use_dilation=False, det_db_score_mode='fast', det_east_score_thresh=0.8, det_east_cover_thresh=0.1, det_east_nms_thresh=0.2, det_sast_score_thresh=0.5, det_sast_nms_thresh=0.2, det_pse_thresh=0, det_pse_box_thresh=0.85, det_pse_min_area=16, det_pse_scale=1, scales=[8, 16, 32], alpha=1.0, beta=1.0, fourier_degree=5, rec_algorithm='SVTR_LCNet', rec_model_dir='/root/.paddleocr/whl/rec/en/en_PP-OCRv4_rec_infer', rec_image_inverse=True, rec_image_shape='3, 48, 320', rec_batch_num=6, max_text_length=25, rec_char_dict_path='/usr/local/lib/python3.10/dist-packages/paddleocr/ppocr/utils/en_dict.txt', use_space_char=True, vis_font_path='./doc/fonts/simfang.ttf', drop_score=0.5, e2e_algorithm='PGNet', e2e_model_dir=None, e2e_limit_side_len=768, e2e_limit_type='max', e2e_pgnet_score_thresh=0.5, e2e_char_dict_path='./ppocr/utils/ic15_dict.txt', e2e_pgnet_valid_set='totaltext', e2e_pgnet_mode='fast', use_angle_cls=True, cls_model_dir='/root/.paddleocr/whl/cls/ch_ppocr_mobile_v2.0_cls_infer', cls_image_shape='3, 48, 192', label_list=['0', '180'], cls_batch_num=6, cls_thresh=0.9, enable_mkldnn=False, cpu_threads=10, use_pdserving=False, warmup=False, sr_model_dir=None, sr_image_shape='3, 32, 128', sr_batch_num=1, draw_img_save_dir='./inference_results', save_crop_res=False, crop_res_save_dir='./output', use_mp=False, total_process_num=1, process_id=0, benchmark=False, save_log_path='./log_output/', show_log=True, use_onnx=False, return_word_box=False, output='./output', table_max_len=488, table_algorithm='TableAttn', table_model_dir=None, merge_no_span_structure=True, table_char_dict_path=None, layout_model_dir=None, layout_dict_path=None, layout_score_threshold=0.5, layout_nms_threshold=0.5, kie_algorithm='LayoutXLM', ser_model_dir=None, re_model_dir=None, use_visual_backbone=True, ser_dict_path='../train_data/XFUND/class_list_xfun.txt', ocr_order_method=None, mode='structure', image_orientation=False, layout=True, table=True, ocr=True, recovery=False, use_pdf2docx_api=False, invert=False, binarize=False, alphacolor=(255, 255, 255), lang='en', det=True, rec=True, type='ocr', savefile=False, ocr_version='PP-OCRv4', structure_version='PP-StructureV2')\n",
            "[2024/09/14 12:21:55] ppocr DEBUG: dt_boxes num : 19, elapsed : 0.3927948474884033\n",
            "[2024/09/14 12:21:55] ppocr DEBUG: cls num  : 19, elapsed : 0.10299849510192871\n",
            "[2024/09/14 12:21:57] ppocr DEBUG: rec_res num  : 19, elapsed : 1.8402283191680908\n",
            "[2024/09/14 12:21:57] ppocr DEBUG: Namespace(help='==SUPPRESS==', use_gpu=False, use_xpu=False, use_npu=False, use_mlu=False, ir_optim=True, use_tensorrt=False, min_subgraph_size=15, precision='fp32', gpu_mem=500, gpu_id=0, image_dir=None, page_num=0, det_algorithm='DB', det_model_dir='/root/.paddleocr/whl/det/en/en_PP-OCRv3_det_infer', det_limit_side_len=960, det_limit_type='max', det_box_type='quad', det_db_thresh=0.3, det_db_box_thresh=0.6, det_db_unclip_ratio=1.5, max_batch_size=10, use_dilation=False, det_db_score_mode='fast', det_east_score_thresh=0.8, det_east_cover_thresh=0.1, det_east_nms_thresh=0.2, det_sast_score_thresh=0.5, det_sast_nms_thresh=0.2, det_pse_thresh=0, det_pse_box_thresh=0.85, det_pse_min_area=16, det_pse_scale=1, scales=[8, 16, 32], alpha=1.0, beta=1.0, fourier_degree=5, rec_algorithm='SVTR_LCNet', rec_model_dir='/root/.paddleocr/whl/rec/en/en_PP-OCRv4_rec_infer', rec_image_inverse=True, rec_image_shape='3, 48, 320', rec_batch_num=6, max_text_length=25, rec_char_dict_path='/usr/local/lib/python3.10/dist-packages/paddleocr/ppocr/utils/en_dict.txt', use_space_char=True, vis_font_path='./doc/fonts/simfang.ttf', drop_score=0.5, e2e_algorithm='PGNet', e2e_model_dir=None, e2e_limit_side_len=768, e2e_limit_type='max', e2e_pgnet_score_thresh=0.5, e2e_char_dict_path='./ppocr/utils/ic15_dict.txt', e2e_pgnet_valid_set='totaltext', e2e_pgnet_mode='fast', use_angle_cls=True, cls_model_dir='/root/.paddleocr/whl/cls/ch_ppocr_mobile_v2.0_cls_infer', cls_image_shape='3, 48, 192', label_list=['0', '180'], cls_batch_num=6, cls_thresh=0.9, enable_mkldnn=False, cpu_threads=10, use_pdserving=False, warmup=False, sr_model_dir=None, sr_image_shape='3, 32, 128', sr_batch_num=1, draw_img_save_dir='./inference_results', save_crop_res=False, crop_res_save_dir='./output', use_mp=False, total_process_num=1, process_id=0, benchmark=False, save_log_path='./log_output/', show_log=True, use_onnx=False, return_word_box=False, output='./output', table_max_len=488, table_algorithm='TableAttn', table_model_dir=None, merge_no_span_structure=True, table_char_dict_path=None, layout_model_dir=None, layout_dict_path=None, layout_score_threshold=0.5, layout_nms_threshold=0.5, kie_algorithm='LayoutXLM', ser_model_dir=None, re_model_dir=None, use_visual_backbone=True, ser_dict_path='../train_data/XFUND/class_list_xfun.txt', ocr_order_method=None, mode='structure', image_orientation=False, layout=True, table=True, ocr=True, recovery=False, use_pdf2docx_api=False, invert=False, binarize=False, alphacolor=(255, 255, 255), lang='en', det=True, rec=True, type='ocr', savefile=False, ocr_version='PP-OCRv4', structure_version='PP-StructureV2')\n",
            "[2024/09/14 12:22:00] ppocr DEBUG: dt_boxes num : 18, elapsed : 0.30771422386169434\n",
            "[2024/09/14 12:22:00] ppocr DEBUG: cls num  : 18, elapsed : 0.05321049690246582\n",
            "[2024/09/14 12:22:01] ppocr DEBUG: rec_res num  : 18, elapsed : 1.3524560928344727\n",
            "[2024/09/14 12:22:02] ppocr DEBUG: Namespace(help='==SUPPRESS==', use_gpu=False, use_xpu=False, use_npu=False, use_mlu=False, ir_optim=True, use_tensorrt=False, min_subgraph_size=15, precision='fp32', gpu_mem=500, gpu_id=0, image_dir=None, page_num=0, det_algorithm='DB', det_model_dir='/root/.paddleocr/whl/det/en/en_PP-OCRv3_det_infer', det_limit_side_len=960, det_limit_type='max', det_box_type='quad', det_db_thresh=0.3, det_db_box_thresh=0.6, det_db_unclip_ratio=1.5, max_batch_size=10, use_dilation=False, det_db_score_mode='fast', det_east_score_thresh=0.8, det_east_cover_thresh=0.1, det_east_nms_thresh=0.2, det_sast_score_thresh=0.5, det_sast_nms_thresh=0.2, det_pse_thresh=0, det_pse_box_thresh=0.85, det_pse_min_area=16, det_pse_scale=1, scales=[8, 16, 32], alpha=1.0, beta=1.0, fourier_degree=5, rec_algorithm='SVTR_LCNet', rec_model_dir='/root/.paddleocr/whl/rec/en/en_PP-OCRv4_rec_infer', rec_image_inverse=True, rec_image_shape='3, 48, 320', rec_batch_num=6, max_text_length=25, rec_char_dict_path='/usr/local/lib/python3.10/dist-packages/paddleocr/ppocr/utils/en_dict.txt', use_space_char=True, vis_font_path='./doc/fonts/simfang.ttf', drop_score=0.5, e2e_algorithm='PGNet', e2e_model_dir=None, e2e_limit_side_len=768, e2e_limit_type='max', e2e_pgnet_score_thresh=0.5, e2e_char_dict_path='./ppocr/utils/ic15_dict.txt', e2e_pgnet_valid_set='totaltext', e2e_pgnet_mode='fast', use_angle_cls=True, cls_model_dir='/root/.paddleocr/whl/cls/ch_ppocr_mobile_v2.0_cls_infer', cls_image_shape='3, 48, 192', label_list=['0', '180'], cls_batch_num=6, cls_thresh=0.9, enable_mkldnn=False, cpu_threads=10, use_pdserving=False, warmup=False, sr_model_dir=None, sr_image_shape='3, 32, 128', sr_batch_num=1, draw_img_save_dir='./inference_results', save_crop_res=False, crop_res_save_dir='./output', use_mp=False, total_process_num=1, process_id=0, benchmark=False, save_log_path='./log_output/', show_log=True, use_onnx=False, return_word_box=False, output='./output', table_max_len=488, table_algorithm='TableAttn', table_model_dir=None, merge_no_span_structure=True, table_char_dict_path=None, layout_model_dir=None, layout_dict_path=None, layout_score_threshold=0.5, layout_nms_threshold=0.5, kie_algorithm='LayoutXLM', ser_model_dir=None, re_model_dir=None, use_visual_backbone=True, ser_dict_path='../train_data/XFUND/class_list_xfun.txt', ocr_order_method=None, mode='structure', image_orientation=False, layout=True, table=True, ocr=True, recovery=False, use_pdf2docx_api=False, invert=False, binarize=False, alphacolor=(255, 255, 255), lang='en', det=True, rec=True, type='ocr', savefile=False, ocr_version='PP-OCRv4', structure_version='PP-StructureV2')\n",
            "[2024/09/14 12:22:04] ppocr DEBUG: dt_boxes num : 53, elapsed : 0.33965539932250977\n",
            "[2024/09/14 12:22:04] ppocr DEBUG: cls num  : 53, elapsed : 0.1691899299621582\n",
            "[2024/09/14 12:22:12] ppocr DEBUG: rec_res num  : 53, elapsed : 8.251661777496338\n",
            "[2024/09/14 12:22:12] ppocr DEBUG: Namespace(help='==SUPPRESS==', use_gpu=False, use_xpu=False, use_npu=False, use_mlu=False, ir_optim=True, use_tensorrt=False, min_subgraph_size=15, precision='fp32', gpu_mem=500, gpu_id=0, image_dir=None, page_num=0, det_algorithm='DB', det_model_dir='/root/.paddleocr/whl/det/en/en_PP-OCRv3_det_infer', det_limit_side_len=960, det_limit_type='max', det_box_type='quad', det_db_thresh=0.3, det_db_box_thresh=0.6, det_db_unclip_ratio=1.5, max_batch_size=10, use_dilation=False, det_db_score_mode='fast', det_east_score_thresh=0.8, det_east_cover_thresh=0.1, det_east_nms_thresh=0.2, det_sast_score_thresh=0.5, det_sast_nms_thresh=0.2, det_pse_thresh=0, det_pse_box_thresh=0.85, det_pse_min_area=16, det_pse_scale=1, scales=[8, 16, 32], alpha=1.0, beta=1.0, fourier_degree=5, rec_algorithm='SVTR_LCNet', rec_model_dir='/root/.paddleocr/whl/rec/en/en_PP-OCRv4_rec_infer', rec_image_inverse=True, rec_image_shape='3, 48, 320', rec_batch_num=6, max_text_length=25, rec_char_dict_path='/usr/local/lib/python3.10/dist-packages/paddleocr/ppocr/utils/en_dict.txt', use_space_char=True, vis_font_path='./doc/fonts/simfang.ttf', drop_score=0.5, e2e_algorithm='PGNet', e2e_model_dir=None, e2e_limit_side_len=768, e2e_limit_type='max', e2e_pgnet_score_thresh=0.5, e2e_char_dict_path='./ppocr/utils/ic15_dict.txt', e2e_pgnet_valid_set='totaltext', e2e_pgnet_mode='fast', use_angle_cls=True, cls_model_dir='/root/.paddleocr/whl/cls/ch_ppocr_mobile_v2.0_cls_infer', cls_image_shape='3, 48, 192', label_list=['0', '180'], cls_batch_num=6, cls_thresh=0.9, enable_mkldnn=False, cpu_threads=10, use_pdserving=False, warmup=False, sr_model_dir=None, sr_image_shape='3, 32, 128', sr_batch_num=1, draw_img_save_dir='./inference_results', save_crop_res=False, crop_res_save_dir='./output', use_mp=False, total_process_num=1, process_id=0, benchmark=False, save_log_path='./log_output/', show_log=True, use_onnx=False, return_word_box=False, output='./output', table_max_len=488, table_algorithm='TableAttn', table_model_dir=None, merge_no_span_structure=True, table_char_dict_path=None, layout_model_dir=None, layout_dict_path=None, layout_score_threshold=0.5, layout_nms_threshold=0.5, kie_algorithm='LayoutXLM', ser_model_dir=None, re_model_dir=None, use_visual_backbone=True, ser_dict_path='../train_data/XFUND/class_list_xfun.txt', ocr_order_method=None, mode='structure', image_orientation=False, layout=True, table=True, ocr=True, recovery=False, use_pdf2docx_api=False, invert=False, binarize=False, alphacolor=(255, 255, 255), lang='en', det=True, rec=True, type='ocr', savefile=False, ocr_version='PP-OCRv4', structure_version='PP-StructureV2')\n",
            "[2024/09/14 12:22:15] ppocr DEBUG: dt_boxes num : 45, elapsed : 0.3206350803375244\n",
            "[2024/09/14 12:22:15] ppocr DEBUG: cls num  : 45, elapsed : 0.14596128463745117\n",
            "[2024/09/14 12:22:18] ppocr DEBUG: rec_res num  : 45, elapsed : 3.4909322261810303\n",
            "[2024/09/14 12:22:18] ppocr DEBUG: Namespace(help='==SUPPRESS==', use_gpu=False, use_xpu=False, use_npu=False, use_mlu=False, ir_optim=True, use_tensorrt=False, min_subgraph_size=15, precision='fp32', gpu_mem=500, gpu_id=0, image_dir=None, page_num=0, det_algorithm='DB', det_model_dir='/root/.paddleocr/whl/det/en/en_PP-OCRv3_det_infer', det_limit_side_len=960, det_limit_type='max', det_box_type='quad', det_db_thresh=0.3, det_db_box_thresh=0.6, det_db_unclip_ratio=1.5, max_batch_size=10, use_dilation=False, det_db_score_mode='fast', det_east_score_thresh=0.8, det_east_cover_thresh=0.1, det_east_nms_thresh=0.2, det_sast_score_thresh=0.5, det_sast_nms_thresh=0.2, det_pse_thresh=0, det_pse_box_thresh=0.85, det_pse_min_area=16, det_pse_scale=1, scales=[8, 16, 32], alpha=1.0, beta=1.0, fourier_degree=5, rec_algorithm='SVTR_LCNet', rec_model_dir='/root/.paddleocr/whl/rec/en/en_PP-OCRv4_rec_infer', rec_image_inverse=True, rec_image_shape='3, 48, 320', rec_batch_num=6, max_text_length=25, rec_char_dict_path='/usr/local/lib/python3.10/dist-packages/paddleocr/ppocr/utils/en_dict.txt', use_space_char=True, vis_font_path='./doc/fonts/simfang.ttf', drop_score=0.5, e2e_algorithm='PGNet', e2e_model_dir=None, e2e_limit_side_len=768, e2e_limit_type='max', e2e_pgnet_score_thresh=0.5, e2e_char_dict_path='./ppocr/utils/ic15_dict.txt', e2e_pgnet_valid_set='totaltext', e2e_pgnet_mode='fast', use_angle_cls=True, cls_model_dir='/root/.paddleocr/whl/cls/ch_ppocr_mobile_v2.0_cls_infer', cls_image_shape='3, 48, 192', label_list=['0', '180'], cls_batch_num=6, cls_thresh=0.9, enable_mkldnn=False, cpu_threads=10, use_pdserving=False, warmup=False, sr_model_dir=None, sr_image_shape='3, 32, 128', sr_batch_num=1, draw_img_save_dir='./inference_results', save_crop_res=False, crop_res_save_dir='./output', use_mp=False, total_process_num=1, process_id=0, benchmark=False, save_log_path='./log_output/', show_log=True, use_onnx=False, return_word_box=False, output='./output', table_max_len=488, table_algorithm='TableAttn', table_model_dir=None, merge_no_span_structure=True, table_char_dict_path=None, layout_model_dir=None, layout_dict_path=None, layout_score_threshold=0.5, layout_nms_threshold=0.5, kie_algorithm='LayoutXLM', ser_model_dir=None, re_model_dir=None, use_visual_backbone=True, ser_dict_path='../train_data/XFUND/class_list_xfun.txt', ocr_order_method=None, mode='structure', image_orientation=False, layout=True, table=True, ocr=True, recovery=False, use_pdf2docx_api=False, invert=False, binarize=False, alphacolor=(255, 255, 255), lang='en', det=True, rec=True, type='ocr', savefile=False, ocr_version='PP-OCRv4', structure_version='PP-StructureV2')\n",
            "[2024/09/14 12:22:21] ppocr DEBUG: dt_boxes num : 13, elapsed : 0.4227635860443115\n",
            "[2024/09/14 12:22:21] ppocr DEBUG: cls num  : 13, elapsed : 0.1048130989074707\n",
            "[2024/09/14 12:22:22] ppocr DEBUG: rec_res num  : 13, elapsed : 1.1050052642822266\n",
            "Total time taken: 0.52 minutes\n",
            "Images successfully extracted: 5\n",
            "Images with errors: 0\n",
            "Updated dataset saved to: /content/train_with_text.csv\n"
          ]
        }
      ]
    },
    {
      "cell_type": "markdown",
      "source": [
        "# Regex"
      ],
      "metadata": {
        "id": "LNdFeCiwX6iz"
      }
    },
    {
      "cell_type": "code",
      "source": [
        "import pandas as pd\n",
        "import re\n",
        "\n",
        "# Define the extraction patterns for each entity type, including single-letter units\n",
        "patterns = {\n",
        "    'item_weight': r\"(\\d+\\.?\\d*)\\s?(g|gram|grams|mg|milligram|miligram|milligrams|kilogram|kg|oz|ounce|pound|lb|ton)\",\n",
        "    'depth': r\"(\\d+\\.?\\d*)\\s?(cm|centimetre|centimeter|ft|inch|m|metre|mm|yard|yd)\",\n",
        "    'width': r\"(\\d+\\.?\\d*)\\s?(cm|centimetre|centimeter|ft|inch|m|metre|mm|yard|yd)\",\n",
        "    'height': r\"(\\d+\\.?\\d*)\\s?(cm|centimetre|centimeter|ft|inch|m|metre|mm|yard|yd)\",\n",
        "    'voltage': r\"(\\d+\\.?\\d*)\\s?(kV|kilovolt|mV|millivolt|V|volt|v)\",\n",
        "    'wattage': r\"(\\d+\\.?\\d*)\\s?(kW|kilowatt|W|watt|w)\",\n",
        "    'item_volume': r\"(\\d+\\.?\\d*)\\s?(cl|centilitre|cubic foot|ft³|cubic inch|in³|cup|dl|decilitre|fluid ounce|fl oz|gallon|imperial gallon|litre|liter|ml|millilitre|microlitre|pint|quart)\",\n",
        "    'maximum_weight_recommendation': r\"(\\d+\\.?\\d*)\\s?(g|gram|grams|mg|milligram|miligram|milligrams|kilogram|kg|oz|ounce|pound|lb|ton)\"\n",
        "}\n",
        "\n",
        "# Normalize unit names\n",
        "unit_mappings = {\n",
        "    'mg': 'milligram', 'milligram': 'milligram', 'miligram': 'milligram', 'milligrams': 'milligram', 'miligrammes': 'milligram',\n",
        "    'g': 'gram', 'gram': 'gram', 'grams': 'gram',\n",
        "    'kg': 'kilogram', 'kilogram': 'kilogram',\n",
        "    'µg': 'microgram', 'microgram': 'microgram',\n",
        "    'oz': 'ounce', 'ounce': 'ounce',\n",
        "    'lb': 'pound', 'pound': 'pound',\n",
        "    'ton': 'ton',\n",
        "\n",
        "    'cm': 'centimetre', 'centimetre': 'centimetre', 'centimeter': 'centimetre',\n",
        "    'mm': 'millimetre', 'millimetre': 'millimetre', 'millimeter': 'millimetre',\n",
        "    'm': 'metre', 'metre': 'metre', 'meter': 'metre',\n",
        "    'foot': 'foot', 'ft': 'foot', 'inch': 'inch', 'in': 'inch',\n",
        "    'yard': 'yard', 'yd': 'yard',\n",
        "\n",
        "    'kV': 'kilovolt', 'kilovolt': 'kilovolt', 'mV': 'millivolt', 'millivolt': 'millivolt', 'V': 'volt', 'volt': 'volt', 'v': 'volt',\n",
        "\n",
        "    'kW': 'kilowatt', 'kilowatt': 'kilowatt', 'W': 'watt', 'watt': 'watt', 'w': 'watt',\n",
        "\n",
        "    'cl': 'centilitre', 'centilitre': 'centilitre', 'dl': 'decilitre', 'decilitre': 'decilitre',\n",
        "    'ft³': 'cubic foot', 'cubic foot': 'cubic foot', 'in³': 'cubic inch', 'cubic inch': 'cubic inch',\n",
        "    'cup': 'cup', 'fluid ounce': 'fluid ounce', 'fl oz': 'fluid ounce',\n",
        "    'gallon': 'gallon', 'imperial gallon': 'imperial gallon',\n",
        "    'litre': 'litre', 'liter': 'litre', 'ml': 'millilitre', 'millilitre': 'millilitre', 'milliliter': 'millilitre',\n",
        "    'microlitre': 'microlitre', 'microliter': 'microlitre',\n",
        "    'pint': 'pint', 'quart': 'quart'\n",
        "}\n",
        "\n",
        "# Function to extract and normalize quantity and unit from text\n",
        "def extract_quantity(row):\n",
        "    text = row['extracted_text']\n",
        "    entity_name = row['entity_name']\n",
        "\n",
        "    # Skip if text is None\n",
        "    if pd.isna(text):\n",
        "        return None\n",
        "\n",
        "    pattern = patterns.get(entity_name)\n",
        "    if pattern:\n",
        "        match = re.search(pattern, text, re.IGNORECASE)\n",
        "        if match:\n",
        "            value, unit = match.groups()\n",
        "            value = float(value)\n",
        "            normalized_unit = unit_mappings.get(unit.lower(), unit.lower())\n",
        "            return f\"{value} {normalized_unit}\"\n",
        "\n",
        "    return None\n",
        "\n",
        "# Function to check if extracted text matches the entity value\n",
        "def check_match(row):\n",
        "    extracted = row['extracted_text']\n",
        "    entity_value = row['entity_value']\n",
        "\n",
        "    return extracted == entity_value\n",
        "\n",
        "# Apply the function to the DataFrame\n",
        "df['extracted_text'] = df.apply(extract_quantity, axis=1)\n",
        "df['match'] = df.apply(check_match, axis=1)\n",
        "\n",
        "print(df)"
      ],
      "metadata": {
        "colab": {
          "base_uri": "https://localhost:8080/"
        },
        "id": "S75YqrNz4Si3",
        "outputId": "7f0bd661-2b48-441f-aa15-3bed6be3bf57"
      },
      "execution_count": null,
      "outputs": [
        {
          "output_type": "stream",
          "name": "stdout",
          "text": [
            "                                          image_link  group_id  entity_name  \\\n",
            "0  https://m.media-amazon.com/images/I/61I9XdN6OF...    748919  item_weight   \n",
            "1  https://m.media-amazon.com/images/I/71gSRbyXmo...    916768  item_volume   \n",
            "2  https://m.media-amazon.com/images/I/61BZ4zrjZX...    459516  item_weight   \n",
            "3  https://m.media-amazon.com/images/I/612mrlqiI4...    459516  item_weight   \n",
            "4  https://m.media-amazon.com/images/I/617Tl40LOX...    731432  item_weight   \n",
            "\n",
            "     entity_value extracted_text  match  \n",
            "0      500.0 gram     500.0 gram   True  \n",
            "1         1.0 cup           None  False  \n",
            "2      0.709 gram     0.709 gram   True  \n",
            "3      0.709 gram       0.2 gram  False  \n",
            "4  1400 milligram           None  False  \n"
          ]
        }
      ]
    },
    {
      "cell_type": "markdown",
      "source": [
        "# F1 Score Calculation"
      ],
      "metadata": {
        "id": "cPCEpcKRXqO0"
      }
    },
    {
      "cell_type": "code",
      "source": [
        "import pandas as pd\n",
        "import re\n",
        "from sklearn.metrics import f1_score\n",
        "\n",
        "# Define a function to normalize and extract numerical values and units\n",
        "def normalize_text(text):\n",
        "    if pd.isna(text):\n",
        "        return None\n",
        "    # Extract value and unit using regex\n",
        "    match = re.search(r\"(\\d+\\.?\\d*)\\s?(.*)\", text.strip())\n",
        "    if match:\n",
        "        value, unit = match.groups()\n",
        "        value = float(value)\n",
        "        unit = unit.lower()\n",
        "        return (value, unit)\n",
        "    return None\n",
        "\n",
        "# Function to check if extracted text matches the entity value\n",
        "def is_match(row):\n",
        "    entity_value = row['entity_value']\n",
        "    extracted_text = row['extracted_text']\n",
        "\n",
        "    # Normalize both values\n",
        "    entity_normalized = normalize_text(entity_value)\n",
        "    extracted_normalized = normalize_text(extracted_text)\n",
        "\n",
        "    if entity_normalized and extracted_normalized:\n",
        "        return (abs(entity_normalized[0] - extracted_normalized[0]) < 1e-6) and (entity_normalized[1] == extracted_normalized[1])\n",
        "    return False\n",
        "\n",
        "# Clean and normalize the columns\n",
        "df['entity_value'] = df['entity_value'].fillna('').str.strip()\n",
        "df['extracted_text'] = df['extracted_text'].fillna('').str.strip()\n",
        "\n",
        "# Create binary columns indicating a match\n",
        "df['match'] = df.apply(is_match, axis=1)\n",
        "\n",
        "# Create binary labels for F1 score calculation\n",
        "y_true = (df['entity_value'] != '').astype(int)  # 1 if entity_value is not empty\n",
        "y_pred = df['match'].astype(int)  # 1 if match is True\n",
        "\n",
        "# Calculate F1 score\n",
        "f1 = f1_score(y_true, y_pred)\n",
        "\n",
        "print(f\"F1 Score: {f1:.2f}\")\n",
        "print(df)"
      ],
      "metadata": {
        "colab": {
          "base_uri": "https://localhost:8080/"
        },
        "id": "8F4b-mBpGgmC",
        "outputId": "cda69557-26c9-4a06-d361-4506028f1d2e"
      },
      "execution_count": null,
      "outputs": [
        {
          "output_type": "stream",
          "name": "stdout",
          "text": [
            "F1 Score: 0.28\n",
            "                                           image_link  group_id  entity_name  \\\n",
            "0   https://m.media-amazon.com/images/I/61I9XdN6OF...    748919  item_weight   \n",
            "1   https://m.media-amazon.com/images/I/71gSRbyXmo...    916768  item_volume   \n",
            "2   https://m.media-amazon.com/images/I/61BZ4zrjZX...    459516  item_weight   \n",
            "3   https://m.media-amazon.com/images/I/612mrlqiI4...    459516  item_weight   \n",
            "4   https://m.media-amazon.com/images/I/617Tl40LOX...    731432  item_weight   \n",
            "5   https://m.media-amazon.com/images/I/61QsBSE7jg...    731432  item_weight   \n",
            "6   https://m.media-amazon.com/images/I/81xsq6vf2q...    731432  item_weight   \n",
            "7   https://m.media-amazon.com/images/I/71DiLRHeZd...    731432  item_weight   \n",
            "8   https://m.media-amazon.com/images/I/91Cma3Rzse...    731432  item_weight   \n",
            "9   https://m.media-amazon.com/images/I/71jBLhmTNl...    731432  item_weight   \n",
            "10  https://m.media-amazon.com/images/I/81N73b5khV...    149159  item_weight   \n",
            "11  https://m.media-amazon.com/images/I/61oMj2iXOu...    308856  item_weight   \n",
            "12  https://m.media-amazon.com/images/I/91LPf6OjV9...    281678  item_weight   \n",
            "13  https://m.media-amazon.com/images/I/81fOxWWWKY...    281678  item_weight   \n",
            "14  https://m.media-amazon.com/images/I/81dzao1Ob4...    281678  item_weight   \n",
            "15  https://m.media-amazon.com/images/I/91-iahVGED...    281678  item_weight   \n",
            "16  https://m.media-amazon.com/images/I/81S2+GnYpT...    731432  item_weight   \n",
            "17  https://m.media-amazon.com/images/I/81e2YtCOKv...    731432  item_weight   \n",
            "18  https://m.media-amazon.com/images/I/81RNsNEM1E...    731432  item_weight   \n",
            "19  https://m.media-amazon.com/images/I/91prZeizZn...    731432  item_weight   \n",
            "20  https://m.media-amazon.com/images/I/31EvJszFVf...    731432  item_weight   \n",
            "21  https://m.media-amazon.com/images/I/61wzlucTRE...    252585  item_volume   \n",
            "22  https://m.media-amazon.com/images/I/61sQ+qAKr4...    299791  item_weight   \n",
            "23  https://m.media-amazon.com/images/I/81x77l2T5N...    884560  item_weight   \n",
            "24  https://m.media-amazon.com/images/I/71nywfWZUw...    179080  item_weight   \n",
            "\n",
            "                  entity_value extracted_text  match  \n",
            "0                   500.0 gram                 False  \n",
            "1                      1.0 cup                 False  \n",
            "2                   0.709 gram     0.709 gram   True  \n",
            "3                   0.709 gram                 False  \n",
            "4               1400 milligram                 False  \n",
            "5               1400 milligram                 False  \n",
            "6               1400 milligram                 False  \n",
            "7               1400 milligram                 False  \n",
            "8               1400 milligram                 False  \n",
            "9               1400 milligram                 False  \n",
            "10               30.0 kilogram  30.0 kilogram   True  \n",
            "11  10 kilogram to 15 kilogram  10.0 kilogram  False  \n",
            "12                  3.53 ounce                 False  \n",
            "13                  3.53 ounce     3.53 ounce   True  \n",
            "14                    53 ounce     100.0 gram  False  \n",
            "15                    100 gram     100.0 gram   True  \n",
            "16                    200 gram                 False  \n",
            "17                  1 kilogram                 False  \n",
            "18                    200 gram                 False  \n",
            "19                    200 gram                 False  \n",
            "20                    200 gram                 False  \n",
            "21                  4.0 gallon                 False  \n",
            "22                    2.7 gram                 False  \n",
            "23                    112 gram                 False  \n",
            "24                4.1 kilogram  30.0 kilogram  False  \n"
          ]
        }
      ]
    },
    {
      "cell_type": "markdown",
      "source": [
        "#Loading Train Merged"
      ],
      "metadata": {
        "id": "s0QJL2gJrEYx"
      }
    },
    {
      "cell_type": "code",
      "source": [
        "import pandas as pd\n",
        "\n",
        "df = pd.read_csv(\"/content/test_merged.csv\")"
      ],
      "metadata": {
        "id": "XbT8-EZwrJuH"
      },
      "execution_count": null,
      "outputs": []
    },
    {
      "cell_type": "code",
      "source": [
        "df = df.drop(columns=['Unnamed: 0', 'image_link'])"
      ],
      "metadata": {
        "id": "jq1f-g7nrpZg"
      },
      "execution_count": null,
      "outputs": []
    },
    {
      "cell_type": "code",
      "source": [
        "df = df.head(50)"
      ],
      "metadata": {
        "id": "-ToKKIFBPWiH"
      },
      "execution_count": null,
      "outputs": []
    },
    {
      "cell_type": "code",
      "source": [
        "import pandas as pd\n",
        "import re\n",
        "import nltk\n",
        "from nltk.corpus import stopwords\n",
        "\n",
        "# Download stopwords from NLTK\n",
        "nltk.download('stopwords')\n",
        "\n",
        "# Define preprocessing function\n",
        "def preprocess_text(text):\n",
        "    if not isinstance(text, str):\n",
        "        # Return an empty string if the input is not a string (e.g., NaN or None)\n",
        "        return \"\"\n",
        "\n",
        "    # Remove URLs\n",
        "    text = re.sub(r'http\\S+|www\\S+|https\\S+', '', text, flags=re.MULTILINE)\n",
        "\n",
        "    # Remove special characters except periods, double quotes, slashes, and colons\n",
        "    text = re.sub(r'[^\\w\\s.:/\"-]', '', text)\n",
        "\n",
        "    # Remove extra whitespace\n",
        "    text = re.sub(r'\\s+', ' ', text).strip()\n",
        "\n",
        "    # Convert to lowercase\n",
        "    text = text.lower()\n",
        "\n",
        "    # Get English stopwords\n",
        "    stop_words = set(stopwords.words('english'))\n",
        "\n",
        "    # Split text into words\n",
        "    words = text.split()\n",
        "\n",
        "    # Remove stopwords\n",
        "    filtered_words = [word for word in words if word not in stop_words]\n",
        "\n",
        "    # Join words into a single string\n",
        "    cleaned_text = ' '.join(filtered_words)\n",
        "\n",
        "    return cleaned_text\n",
        "\n",
        "# Sample dataframe loading\n",
        "# df = pd.read_csv('your_file.csv')\n",
        "\n",
        "# Apply preprocessing function to the 'extracted_text' column\n",
        "df['cleaned_text'] = df['extracted_text'].apply(preprocess_text)\n",
        "\n",
        "# Check the result\n",
        "print(df[['extracted_text', 'cleaned_text']].head())\n"
      ],
      "metadata": {
        "colab": {
          "base_uri": "https://localhost:8080/"
        },
        "id": "hrOHlDD2KqLI",
        "outputId": "48e7c14d-037c-4011-f0c3-d34bb2b6f714"
      },
      "execution_count": null,
      "outputs": [
        {
          "output_type": "stream",
          "name": "stderr",
          "text": [
            "[nltk_data] Downloading package stopwords to /root/nltk_data...\n",
            "[nltk_data]   Package stopwords is already up-to-date!\n"
          ]
        },
        {
          "output_type": "stream",
          "name": "stdout",
          "text": [
            "                                      extracted_text  \\\n",
            "0       2.63in 6.68cm 91.44cm - 199.39cm 36in - 78in   \n",
            "1  Size Width Length One Size 42cm/16.54\" 200cm/7...   \n",
            "2  Size Width Length One Size 42cm/16.54\" 200cm/7...   \n",
            "3  Size Width Length One Size 42cm/16.54\" 200cm/7...   \n",
            "4  Size Width Length One Size 10.50cm/4.13\" 90cm/...   \n",
            "\n",
            "                                        cleaned_text  \n",
            "0       2.63in 6.68cm 91.44cm - 199.39cm 36in - 78in  \n",
            "1  size width length one size 42cm/16.54\" 200cm/7...  \n",
            "2  size width length one size 42cm/16.54\" 200cm/7...  \n",
            "3  size width length one size 42cm/16.54\" 200cm/7...  \n",
            "4  size width length one size 10.50cm/4.13\" 90cm/...  \n"
          ]
        }
      ]
    },
    {
      "cell_type": "code",
      "source": [
        "import re\n",
        "import pandas as pd\n",
        "from transformers import pipeline\n",
        "\n",
        "# Function to build the pattern for a list of units\n",
        "def build_pattern(units):\n",
        "    units_sorted = sorted(units, key=lambda x: -len(x))\n",
        "    units_escaped = [re.escape(u) for u in units_sorted]\n",
        "    units_pattern = '|'.join(units_escaped)\n",
        "    pattern = r\"(\\d+\\.?\\d*)\\s*(\" + units_pattern + r\")\\b\"\n",
        "    return pattern\n",
        "\n",
        "# Define units per entity\n",
        "weight_units = ['milligram', 'mg', 'miligram', 'milligrams', 'miligrammes',\n",
        "                'gram', 'g', 'grams', 'kilogram', 'kg', 'microgram', 'µg',\n",
        "                'ounce', 'oz', 'pound', 'lb', 'ton']\n",
        "\n",
        "length_units = ['millimetre', 'mm', 'millimeter', 'centimetre', 'cm', 'centimeter',\n",
        "                'metre', 'meter', r'm(?!m)',  'foot', 'ft', 'inch', 'in', 'yard', 'yd']\n",
        "\n",
        "voltage_units = ['kilovolt', 'kV', 'kv', 'millivolt', 'mV', 'mv', 'volt', 'V', 'v']\n",
        "wattage_units = ['kilowatt', 'kW', 'kw', 'watt', 'W', 'w']\n",
        "volume_units = ['centilitre', 'cl', 'cubic foot', 'ft³', 'cubic inch', 'in³',\n",
        "                'cup', 'decilitre', 'dl', 'fluid ounce', 'fl oz', 'gallon',\n",
        "                'imperial gallon', 'litre', 'liter', 'millilitre', 'ml', 'milliliter',\n",
        "                'microlitre', 'microliter', 'pint', 'quart']\n",
        "\n",
        "# Define the extraction patterns for each entity type\n",
        "patterns = {\n",
        "    'item_weight': build_pattern(weight_units),\n",
        "    'depth': build_pattern(length_units),\n",
        "    'width': build_pattern(length_units),\n",
        "    'height': build_pattern(length_units),\n",
        "    'voltage': build_pattern(voltage_units),\n",
        "    'wattage': build_pattern(wattage_units),\n",
        "    'item_volume': build_pattern(volume_units),\n",
        "    'maximum_weight_recommendation': build_pattern(weight_units)\n",
        "}\n",
        "\n",
        "# Normalize unit names (ensure all keys are in lowercase)\n",
        "unit_mappings = {\n",
        "    'mg': 'milligram', 'g': 'gram', 'kg': 'kilogram', 'µg': 'microgram',\n",
        "    'oz': 'ounce', 'lb': 'pound', 'ton': 'ton',\n",
        "    'cm': 'centimetre', 'mm': 'millimetre', 'm': 'metre', 'ft': 'foot', 'in': 'inch',\n",
        "    'kv': 'kilovolt', 'mv': 'millivolt', 'v': 'volt', 'kw': 'kilowatt', 'w': 'watt',\n",
        "    'cl': 'centilitre', 'dl': 'decilitre', 'ft³': 'cubic foot', 'in³': 'cubic inch',\n",
        "    'cup': 'cup', 'fl oz': 'fluid ounce', 'gallon': 'gallon', 'litre': 'litre',\n",
        "    'ml': 'millilitre', 'pint': 'pint', 'quart': 'quart'\n",
        "}\n",
        "\n",
        "# Function to extract and normalize quantity and unit from text\n",
        "def extract_quantities(row):\n",
        "    text = row['cleaned_text']\n",
        "    entity_name = row['entity_name']\n",
        "\n",
        "    # Skip if text is None\n",
        "    if pd.isna(text):\n",
        "        return []\n",
        "\n",
        "    pattern = patterns.get(entity_name)\n",
        "    if pattern:\n",
        "        matches = re.findall(pattern, text, re.IGNORECASE)  # Find all matches\n",
        "        extracted_values = []\n",
        "        for match in matches:\n",
        "            value, unit = match\n",
        "            value = float(value)\n",
        "            normalized_unit = unit_mappings.get(unit.lower(), unit.lower())\n",
        "            extracted_values.append(f\"{value} {normalized_unit}\")\n",
        "        return extracted_values\n",
        "\n",
        "    return []\n",
        "\n",
        "# Use a zero-shot classification model for faster performance\n",
        "classifier = pipeline(\"zero-shot-classification\", model=\"facebook/bart-large-mnli\")\n",
        "\n",
        "# Function to use LLM to select the appropriate value-unit pair based on the context of the cleaned text\n",
        "def select_value_using_llm(row):\n",
        "    cleaned_text = row['cleaned_text']\n",
        "    entity_name = row['entity_name']\n",
        "    extracted_values = row['extracted_values']\n",
        "\n",
        "    # If no extracted values, return empty string\n",
        "    if not extracted_values:\n",
        "        print(f\"Warning: No extracted values for row with entity '{entity_name}'\")\n",
        "        return \"\"\n",
        "\n",
        "    # Prepare the candidate labels (extracted values)\n",
        "    candidate_values = extracted_values\n",
        "\n",
        "    # Use the classifier to score each candidate value\n",
        "    try:\n",
        "        result = classifier(\n",
        "            sequences=cleaned_text,\n",
        "            candidate_labels=candidate_values,\n",
        "            hypothesis_template=f\"The correct value for {entity_name} is {{}}.\",\n",
        "            multi_label=False\n",
        "        )\n",
        "        # Select the candidate with the highest score\n",
        "        selected_value = result['labels'][0]\n",
        "        return selected_value\n",
        "    except Exception as e:\n",
        "        print(f\"Error during LLM call for row with entity '{entity_name}': {e}\")\n",
        "        return \"\"\n",
        "\n",
        "# Apply the extraction function to get value-unit pairs\n",
        "df['extracted_values'] = df.apply(extract_quantities, axis=1)\n",
        "\n",
        "# Use the LLM to select the appropriate value-unit pair\n",
        "df['selected_value'] = df.apply(select_value_using_llm, axis=1)\n",
        "\n",
        "# Display the final DataFrame with the predicted values\n",
        "df"
      ],
      "metadata": {
        "id": "7Os8Ti064rE6"
      },
      "execution_count": null,
      "outputs": []
    },
    {
      "cell_type": "code",
      "source": [],
      "metadata": {
        "id": "MgzwV68vPrGg"
      },
      "execution_count": null,
      "outputs": []
    }
  ]
}